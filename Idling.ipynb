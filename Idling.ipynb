{
 "cells": [
  {
   "cell_type": "markdown",
   "metadata": {
    "colab_type": "text",
    "deletable": true,
    "editable": true,
    "id": "bkQUi0Pkt0dk"
   },
   "source": [
    "# Idling Insights with the Data Science Package"
   ]
  },
  {
   "cell_type": "markdown",
   "metadata": {
    "colab_type": "text",
    "deletable": true,
    "editable": true,
    "id": "RwWOjEjHt0dq"
   },
   "source": [
    "Is idling a pervasive problem for your fleet? Do you have a specific question or hypothesis around idling in your fleet? Using the DSP can allow you to easily compare areas where your fleets compared to Geotab's known idling areas, or can help you add some context to your fleet's idling tendencies. "
   ]
  },
  {
   "cell_type": "code",
   "execution_count": 0,
   "metadata": {
    "colab": {},
    "colab_type": "code",
    "collapsed": true,
    "deletable": true,
    "editable": true,
    "id": "NiSsPkiHt0dt"
   },
   "outputs": [],
   "source": [
    "import pandas as pd"
   ]
  },
  {
   "cell_type": "markdown",
   "metadata": {
    "colab_type": "text",
    "deletable": true,
    "editable": true,
    "id": "UHCYh6Jpt0d5"
   },
   "source": [
    "We can first get all of the instances of idling in the past month. \n",
    "This query will give you the SerialNo of the vehicle that was idling, the duration, the time that idling started and ended, and the location (both latitude/longitude and Geohash)\n",
    "In order to find the areas where vehicles in your fleet idle most often, you can use Geohash and compare them to Geotab's Idling Areas Dataset."
   ]
  },
  {
   "cell_type": "code",
   "execution_count": 0,
   "metadata": {
    "colab": {},
    "colab_type": "code",
    "collapsed": true,
    "deletable": true,
    "editable": true,
    "id": "cMW87_aqt0d8"
   },
   "outputs": [],
   "source": [
    "projectname='PUT PROJECT NAME HERE'"
   ]
  },
  {
   "cell_type": "code",
   "execution_count": 0,
   "metadata": {
    "colab": {},
    "colab_type": "code",
    "collapsed": true,
    "deletable": true,
    "editable": true,
    "id": "TZnzz7PKt0eL"
   },
   "outputs": [],
   "source": [
    "query_I= \"\"\"\n",
    "With FIdle As \n",
    "    (Select Geohash, Sum(Seconds_Idling) as Idling_InSec  \n",
    "       From \n",
    "       (Select * \n",
    "          From `geotab-dsp-$name.Exceptions.Idling` \n",
    "         Where _PartitionTime between Timestamp(Date_sub(current_Date(), interval 31 Day)) \n",
    "               and Timestamp(Date_sub(current_Date(), interval 1 DAY)))\n",
    "         Group by Geohash)\n",
    "\n",
    "Select * \n",
    "  From `geotab-public-intelligence.UrbanInfrastructure.IdlingAreas` I \n",
    " Inner Join FIdle F \n",
    "    On I.Geohash=Substr(F.Geohash,1,7)\n",
    "\"\"\""
   ]
  },
  {
   "cell_type": "code",
   "execution_count": 0,
   "metadata": {
    "colab": {},
    "colab_type": "code",
    "collapsed": true,
    "deletable": true,
    "editable": true,
    "id": "IUc_ktfdt0eY"
   },
   "outputs": [],
   "source": [
    "df_i = pd.read_gbq(query_I.replace('$name', projectname), project_id='geotab-dsp-'+projectname, dialect='standard')"
   ]
  },
  {
   "cell_type": "markdown",
   "metadata": {
    "colab_type": "text",
    "deletable": true,
    "editable": true,
    "id": "71gQLuEPt0ej"
   },
   "source": [
    "We also might want to add some additional context around idling within your fleet. You can easily summarize idling tendencies by vehicle type or vocation, or look at the dates or times of day that vehicles tend to idle. The query below allows you to quickly see differences in idling between vehicle types, vocation, date, and serial number. "
   ]
  },
  {
   "cell_type": "code",
   "execution_count": 0,
   "metadata": {
    "colab": {},
    "colab_type": "code",
    "collapsed": true,
    "deletable": true,
    "editable": true,
    "id": "U6DOb9iut0en"
   },
   "outputs": [],
   "source": [
    "query_IS= \"\"\"\n",
    "With FIdle As (\n",
    "  Select SerialNo, StartDateTime, StopDateTime, Duration\n",
    "    From `geotab-dsp-$name.Exceptions.Idling` \n",
    "    Where _PartitionTime between Timestamp(Date_sub(current_Date(), interval 31 Day)) \n",
    "          and Timestamp(Date_sub(current_Date(), interval 1 DAY)))\n",
    "\n",
    ", Trips As ( \n",
    "   Select Serialno, TripId, StartTime, StopTime, DrivingDuration \n",
    "     From  `geotab-dsp-$name.Trips.Trips` \n",
    "    Inner Join FIdle On SerialNo\n",
    "    Where  _PartitionTime between Timestamp(Date_sub(current_Date(), interval 31 Day)) \n",
    "          and Timestamp(Date_sub(current_Date(), interval 1 DAY))\n",
    "          and StartDateTime between StartTime and StopTime)\n",
    "\n",
    ", SwV As (\n",
    "    Select T.*, V.Vin \n",
    "     From \n",
    "      (Select Vin, SerialNo \n",
    "        From `geotab-dsp-$name.Interpolated.Vin` \n",
    "       Where Datefrom< Timestamp(Date_sub(current_Date(), interval 31 Day))\n",
    "      ) V \n",
    "   Inner Join Trips T \n",
    "     On F.SerialNo=V.SerialNo)\n",
    "\n",
    ", Decode AS (\n",
    "  Select Vin, Make, Model, Year, VehicleType, WeightClass, S.*, \n",
    "    CASE WHEN VehicleType LIKE 'Passenger' THEN 'Car',\n",
    "         ELSE VehicleType LIKE 'MPV' THEN 'MPV',\n",
    "         ELSE VehicleType LIKE 'Truck' AND (WeightClass LIKE '%Class 8%' \n",
    "           OR WeightClass LIKE '%Class 7%') THEN 'HDT',\n",
    "         ELSE VehicleType LIKE 'Truck' AND (WeightClass LIKE '%Class 6%' \n",
    "           OR WeightClass LIKE '%Class 5%' OR WeightClass LIKE '%Class 4%') \n",
    "         THEN 'MDT',\n",
    "         ELSE VehicleType LIKE 'Truck' AND (WeightClass LIKE '%Class H%' \n",
    "           OR WeightClass LIKE '%Class G%' OR WeightClass LIKE '%Class E%' \n",
    "           OR WeightClass LIKE '%Class C%' OR WeightClass LIKE '%Class D%' \n",
    "           OR WeightClass LIKE '%Class 3%' OR WeightClass LIKE '%Class F%' \n",
    "           OR WeightClass LIKE '%Class B%' OR WeightClass LIKE '%Class E%' \n",
    "           OR WeightClass LIKE '%Class 1%' OR WeightClass LIKE '%Class A%') \n",
    "         THEN 'LDT' ELSE 0 END AS Veh_Type\n",
    "  From `geotab-dsp-$name.VinDecode` V \n",
    "  Inner Join Swv S Using(Vin))\n",
    "\n",
    "Select Serialno, TripId, Duration as Minutes_Idling, StartTime, StopTime, DrivingDuration as DriveTime, Veh_Type\n",
    "  From Decode\n",
    "\"\"\""
   ]
  },
  {
   "cell_type": "code",
   "execution_count": 0,
   "metadata": {
    "colab": {},
    "colab_type": "code",
    "collapsed": true,
    "deletable": true,
    "editable": true,
    "id": "VupjD1hdt0e0"
   },
   "outputs": [],
   "source": [
    "df_IS = pd.read_gbq(query_I.replace('$name', projectname),project_id='geotab-dsp-'+projectname, dialect='standard')"
   ]
  },
  {
   "cell_type": "markdown",
   "metadata": {
    "colab_type": "text",
    "deletable": true,
    "editable": true,
    "id": "V4uoCUj4t0e_"
   },
   "source": [
    "A sample dashboard of this information is available here: https://datastudio.google.com/s/o57fDfsvdEA"
   ]
  },
  {
   "cell_type": "code",
   "execution_count": null,
   "metadata": {
    "collapsed": true
   },
   "outputs": [],
   "source": []
  }
 ],
 "metadata": {
  "colab": {
   "collapsed_sections": [],
   "name": "Idling_FC.ipynb",
   "provenance": [],
   "version": "0.3.2"
  },
  "kernelspec": {
   "display_name": "Python 2",
   "language": "python",
   "name": "python2"
  },
  "language_info": {
   "codemirror_mode": {
    "name": "ipython",
    "version": 2
   },
   "file_extension": ".py",
   "mimetype": "text/x-python",
   "name": "python",
   "nbconvert_exporter": "python",
   "pygments_lexer": "ipython2",
   "version": "2.7.15"
  }
 },
 "nbformat": 4,
 "nbformat_minor": 0
}
