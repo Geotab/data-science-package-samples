{
 "cells": [
  {
   "cell_type": "markdown",
   "metadata": {
    "colab_type": "text",
    "deletable": true,
    "editable": true,
    "id": "gvEFy_UbYdSs"
   },
   "source": [
    "# Service Center Information With the Data Science Package"
   ]
  },
  {
   "cell_type": "markdown",
   "metadata": {
    "colab_type": "text",
    "deletable": true,
    "editable": true,
    "id": "REr3a_mPYdSt"
   },
   "source": [
    "For this notebook, we will use the status code relating to engine oil life remaining to determine when and for how long vehicles in your fleet visited Service Centers. This query can also be used for any other fault or status code that can be tracked using GO Devices. You can replace this with any other warning indicator that you find most relevant. You can consult your Interpolated.FaultCodeLookup or Interpolated.StatusCodeLookup table for reference."
   ]
  },
  {
   "cell_type": "code",
   "execution_count": 0,
   "metadata": {
    "colab": {},
    "colab_type": "code",
    "deletable": true,
    "editable": true,
    "id": "n4FAB2j0YdSu"
   },
   "outputs": [],
   "source": [
    "import pandas as pd\n",
    "from google.colab import files\n",
    "import io"
   ]
  },
  {
   "cell_type": "markdown",
   "metadata": {
    "colab_type": "text",
    "deletable": true,
    "editable": true,
    "id": "_57UDeD1YdSw"
   },
   "source": [
    "Load in your own data where you can identify the individual vehicles in your fleet, timing of the repair, and any other variables you might find relevant, or that you currently store related to repairs. In this example, we will use the latitude and longitude of service centers, which you can convert from street addresses using the geocoder package of choice (for example: https://pypi.org/project/geocoder/). However, you could do this analysis without location data. Your repair data could look something like this: "
   ]
  },
  {
   "cell_type": "code",
   "execution_count": 33,
   "metadata": {
    "colab": {
     "base_uri": "https://localhost:8080/",
     "height": 75,
     "resources": {
      "http://localhost:8080/nbextensions/google.colab/files.js": {
       "data": "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",
       "headers": [
        [
         "content-type",
         "application/javascript"
        ]
       ],
       "ok": true,
       "status": 200,
       "status_text": ""
      }
     }
    },
    "colab_type": "code",
    "id": "vY4hK8yksHG9",
    "outputId": "c7340a19-01d2-4594-c81f-b5e3f749ef36"
   },
   "outputs": [
    {
     "data": {
      "text/html": [
       "\n",
       "     <input type=\"file\" id=\"files-c6702e13-46ee-476a-923c-a00706e0e221\" name=\"files[]\" multiple disabled />\n",
       "     <output id=\"result-c6702e13-46ee-476a-923c-a00706e0e221\">\n",
       "      Upload widget is only available when the cell has been executed in the\n",
       "      current browser session. Please rerun this cell to enable.\n",
       "      </output>\n",
       "      <script src=\"/nbextensions/google.colab/files.js\"></script> "
      ],
      "text/plain": [
       "<IPython.core.display.HTML object>"
      ]
     },
     "metadata": {
      "tags": []
     },
     "output_type": "display_data"
    },
    {
     "name": "stdout",
     "output_type": "stream",
     "text": [
      "Saving RepairLog.csv to RepairLog (3).csv\n"
     ]
    }
   ],
   "source": [
    "uploaded = files.upload()"
   ]
  },
  {
   "cell_type": "code",
   "execution_count": 0,
   "metadata": {
    "colab": {},
    "colab_type": "code",
    "id": "DCSAEftrbIuk"
   },
   "outputs": [],
   "source": [
    "df_repairs = pd.read_csv(io.BytesIO(uploaded['RepairLog.csv']))"
   ]
  },
  {
   "cell_type": "code",
   "execution_count": 35,
   "metadata": {
    "colab": {
     "base_uri": "https://localhost:8080/",
     "height": 204
    },
    "colab_type": "code",
    "deletable": true,
    "editable": true,
    "id": "_Pt3Bj3AYdSx",
    "outputId": "ab782957-6180-45b5-cdec-026437180812"
   },
   "outputs": [
    {
     "data": {
      "text/html": [
       "<div>\n",
       "<style scoped>\n",
       "    .dataframe tbody tr th:only-of-type {\n",
       "        vertical-align: middle;\n",
       "    }\n",
       "\n",
       "    .dataframe tbody tr th {\n",
       "        vertical-align: top;\n",
       "    }\n",
       "\n",
       "    .dataframe thead th {\n",
       "        text-align: right;\n",
       "    }\n",
       "</style>\n",
       "<table border=\"1\" class=\"dataframe\">\n",
       "  <thead>\n",
       "    <tr style=\"text-align: right;\">\n",
       "      <th></th>\n",
       "      <th>VehicleNo</th>\n",
       "      <th>DateofRepair</th>\n",
       "      <th>TotalCost</th>\n",
       "      <th>Insurance</th>\n",
       "      <th>FinalPayment</th>\n",
       "      <th>Latitude of Location</th>\n",
       "      <th>Longitude of Location</th>\n",
       "      <th>LocationName</th>\n",
       "    </tr>\n",
       "  </thead>\n",
       "  <tbody>\n",
       "    <tr>\n",
       "      <th>0</th>\n",
       "      <td>SerialNo1</td>\n",
       "      <td>12-31-2018</td>\n",
       "      <td>$560</td>\n",
       "      <td>$480</td>\n",
       "      <td>$80</td>\n",
       "      <td>43.419177</td>\n",
       "      <td>-79.716055</td>\n",
       "      <td>SE Auto Sales &amp; Service</td>\n",
       "    </tr>\n",
       "    <tr>\n",
       "      <th>1</th>\n",
       "      <td>SerialNo2</td>\n",
       "      <td>12-13-2018</td>\n",
       "      <td>$1,350</td>\n",
       "      <td>$250</td>\n",
       "      <td>$1,100</td>\n",
       "      <td>43.434135</td>\n",
       "      <td>-79.703653</td>\n",
       "      <td>New Millenium Tire &amp; Auto Centre, Oakville</td>\n",
       "    </tr>\n",
       "    <tr>\n",
       "      <th>2</th>\n",
       "      <td>SerialNo3</td>\n",
       "      <td>12-01-2018</td>\n",
       "      <td>$45</td>\n",
       "      <td>$45</td>\n",
       "      <td>$0</td>\n",
       "      <td>43.436562</td>\n",
       "      <td>-79.699516</td>\n",
       "      <td>Ontario Auto Salvage</td>\n",
       "    </tr>\n",
       "    <tr>\n",
       "      <th>3</th>\n",
       "      <td>SerialNo4</td>\n",
       "      <td>12-12-2018</td>\n",
       "      <td>$950</td>\n",
       "      <td>$950</td>\n",
       "      <td>$0</td>\n",
       "      <td>43.442824</td>\n",
       "      <td>-79.699035</td>\n",
       "      <td>JNB Auto Center</td>\n",
       "    </tr>\n",
       "    <tr>\n",
       "      <th>4</th>\n",
       "      <td>SerialNo5</td>\n",
       "      <td>12-16-2018</td>\n",
       "      <td>$2,550</td>\n",
       "      <td>$2,300</td>\n",
       "      <td>$250</td>\n",
       "      <td>43.448638</td>\n",
       "      <td>-79.699433</td>\n",
       "      <td>Oakville Auto Centre</td>\n",
       "    </tr>\n",
       "  </tbody>\n",
       "</table>\n",
       "</div>"
      ],
      "text/plain": [
       "   VehicleNo DateofRepair TotalCost Insurance FinalPayment  \\\n",
       "0  SerialNo1   12-31-2018      $560      $480          $80   \n",
       "1  SerialNo2   12-13-2018    $1,350      $250       $1,100   \n",
       "2  SerialNo3   12-01-2018       $45       $45           $0   \n",
       "3  SerialNo4   12-12-2018      $950      $950           $0   \n",
       "4  SerialNo5   12-16-2018    $2,550    $2,300         $250   \n",
       "\n",
       "   Latitude of Location  Longitude of Location  \\\n",
       "0             43.419177             -79.716055   \n",
       "1             43.434135             -79.703653   \n",
       "2             43.436562             -79.699516   \n",
       "3             43.442824             -79.699035   \n",
       "4             43.448638             -79.699433   \n",
       "\n",
       "                                 LocationName  \n",
       "0                     SE Auto Sales & Service  \n",
       "1  New Millenium Tire & Auto Centre, Oakville  \n",
       "2                        Ontario Auto Salvage  \n",
       "3                             JNB Auto Center  \n",
       "4                        Oakville Auto Centre  "
      ]
     },
     "execution_count": 35,
     "metadata": {
      "tags": []
     },
     "output_type": "execute_result"
    }
   ],
   "source": [
    "df_repairs.head()"
   ]
  },
  {
   "cell_type": "markdown",
   "metadata": {
    "colab_type": "text",
    "deletable": true,
    "editable": true,
    "id": "4Grz2XDrYdS5"
   },
   "source": [
    "Here we are running a query that determines the location where there was a large observed change in the status of the Engine Oil Life (using Code 77 from the Status table). When the engine oil life is low, that may prompt your drivers to visit a service center. We can determine the location of the Service Center, how long the vehicles stopped there, and what their engine oil life values were when they stopped. "
   ]
  },
  {
   "cell_type": "markdown",
   "metadata": {
    "colab_type": "text",
    "deletable": true,
    "editable": true,
    "id": "S6PC_yQqYdS6"
   },
   "source": [
    "Then you can load this data into a pandas dataframe, and join it with your repair costs data you have uploaded. In this case, we can also use the VIN to include characteristics some other characteristics about the vehile (e.g. type, weight class, etc.)\n",
    "NOTE: There are a few different ways to determine the location where the Engine Oil Life Remaining changed. The method below is best suited for third-party service center visits. "
   ]
  },
  {
   "cell_type": "code",
   "execution_count": 0,
   "metadata": {
    "colab": {},
    "colab_type": "code",
    "deletable": true,
    "editable": true,
    "id": "NX1SQJb9YdS6"
   },
   "outputs": [],
   "source": [
    "projectname='PUT YOUR PROJECT NAME HERE'"
   ]
  },
  {
   "cell_type": "code",
   "execution_count": 0,
   "metadata": {
    "colab": {},
    "colab_type": "code",
    "deletable": true,
    "editable": true,
    "id": "WWkuYPS9YdTA"
   },
   "outputs": [],
   "source": [
    "with open ('ServiceCenter.sql') as fp:\n",
    "  sql_service_1= fp.read()\n",
    "  sql_service_1= sql_service_1.replace('$name', projectname)"
   ]
  },
  {
   "cell_type": "code",
   "execution_count": 0,
   "metadata": {
    "colab": {},
    "colab_type": "code",
    "deletable": true,
    "editable": true,
    "id": "d0d2mntlYdTC"
   },
   "outputs": [],
   "source": [
    "df_rvv = pd.read_gbq(sql_service_1,project_id='geotab-dsp-'+projectname, dialect='standard')"
   ]
  },
  {
   "cell_type": "code",
   "execution_count": 28,
   "metadata": {
    "colab": {
     "base_uri": "https://localhost:8080/",
     "height": 204
    },
    "colab_type": "code",
    "deletable": true,
    "editable": true,
    "id": "57Aq0MSKYdTE",
    "outputId": "c620b4d6-65f0-4918-c3d7-ab0752414812"
   },
   "outputs": [
    {
     "data": {
      "text/html": [
       "<div>\n",
       "<style scoped>\n",
       "    .dataframe tbody tr th:only-of-type {\n",
       "        vertical-align: middle;\n",
       "    }\n",
       "\n",
       "    .dataframe tbody tr th {\n",
       "        vertical-align: top;\n",
       "    }\n",
       "\n",
       "    .dataframe thead th {\n",
       "        text-align: right;\n",
       "    }\n",
       "</style>\n",
       "<table border=\"1\" class=\"dataframe\">\n",
       "  <thead>\n",
       "    <tr style=\"text-align: right;\">\n",
       "      <th></th>\n",
       "      <th>VehicleNo</th>\n",
       "      <th>LastValue</th>\n",
       "      <th>AvgLat</th>\n",
       "      <th>AvgLon</th>\n",
       "      <th>VehicleType</th>\n",
       "      <th>WeightClass</th>\n",
       "      <th>DateofRepair</th>\n",
       "      <th>CycleHour</th>\n",
       "    </tr>\n",
       "  </thead>\n",
       "  <tbody>\n",
       "    <tr>\n",
       "      <th>0</th>\n",
       "      <td>SerialNo1</td>\n",
       "      <td>3.21</td>\n",
       "      <td>43.419177</td>\n",
       "      <td>-79.716055</td>\n",
       "      <td>Truck</td>\n",
       "      <td>Class D (5001 - 6000 lbs)</td>\n",
       "      <td>12-31-2018</td>\n",
       "      <td>2.50</td>\n",
       "    </tr>\n",
       "    <tr>\n",
       "      <th>1</th>\n",
       "      <td>SerialNo2</td>\n",
       "      <td>2.45</td>\n",
       "      <td>43.434135</td>\n",
       "      <td>-79.703653</td>\n",
       "      <td>Truck</td>\n",
       "      <td>Class G (8001 - 9000 lbs)</td>\n",
       "      <td>12-13-2018</td>\n",
       "      <td>3.50</td>\n",
       "    </tr>\n",
       "    <tr>\n",
       "      <th>2</th>\n",
       "      <td>SerialNo3</td>\n",
       "      <td>17.30</td>\n",
       "      <td>43.436562</td>\n",
       "      <td>-79.699516</td>\n",
       "      <td>MPV</td>\n",
       "      <td>Class H (9001 - 10000 lbs)</td>\n",
       "      <td>12-01-2018</td>\n",
       "      <td>0.75</td>\n",
       "    </tr>\n",
       "    <tr>\n",
       "      <th>3</th>\n",
       "      <td>SerialNo4</td>\n",
       "      <td>12.30</td>\n",
       "      <td>43.442824</td>\n",
       "      <td>-79.699035</td>\n",
       "      <td>MPV</td>\n",
       "      <td>Class H (9001 - 10000 lbs)</td>\n",
       "      <td>12-12-2018</td>\n",
       "      <td>5.00</td>\n",
       "    </tr>\n",
       "    <tr>\n",
       "      <th>4</th>\n",
       "      <td>SerialNo5</td>\n",
       "      <td>9.70</td>\n",
       "      <td>43.448638</td>\n",
       "      <td>-79.699433</td>\n",
       "      <td>Truck</td>\n",
       "      <td>Class F (7001 - 8000 lbs)</td>\n",
       "      <td>12-16-2018</td>\n",
       "      <td>12.00</td>\n",
       "    </tr>\n",
       "  </tbody>\n",
       "</table>\n",
       "</div>"
      ],
      "text/plain": [
       "   VehicleNo  LastValue     AvgLat     AvgLon VehicleType  \\\n",
       "0  SerialNo1       3.21  43.419177 -79.716055       Truck   \n",
       "1  SerialNo2       2.45  43.434135 -79.703653       Truck   \n",
       "2  SerialNo3      17.30  43.436562 -79.699516         MPV   \n",
       "3  SerialNo4      12.30  43.442824 -79.699035         MPV   \n",
       "4  SerialNo5       9.70  43.448638 -79.699433       Truck   \n",
       "\n",
       "                  WeightClass DateofRepair  CycleHour  \n",
       "0   Class D (5001 - 6000 lbs)   12-31-2018       2.50  \n",
       "1   Class G (8001 - 9000 lbs)   12-13-2018       3.50  \n",
       "2  Class H (9001 - 10000 lbs)   12-01-2018       0.75  \n",
       "3  Class H (9001 - 10000 lbs)   12-12-2018       5.00  \n",
       "4   Class F (7001 - 8000 lbs)   12-16-2018      12.00  "
      ]
     },
     "execution_count": 28,
     "metadata": {
      "tags": []
     },
     "output_type": "execute_result"
    }
   ],
   "source": [
    "df_rvv.head()"
   ]
  },
  {
   "cell_type": "markdown",
   "metadata": {
    "colab_type": "text",
    "deletable": true,
    "editable": true,
    "id": "fLEzpefkYdTH"
   },
   "source": [
    "Now, we can combine the data we have from our service incidents with our csv costs that we have already loaded into the notebook:"
   ]
  },
  {
   "cell_type": "code",
   "execution_count": 0,
   "metadata": {
    "colab": {},
    "colab_type": "code",
    "deletable": true,
    "editable": true,
    "id": "aWeGO2CpYdTI"
   },
   "outputs": [],
   "source": [
    "df_c=pd.merge(df_repairs, df_rvv, how='left', on = ['VehicleNo','DateofRepair'])"
   ]
  },
  {
   "cell_type": "code",
   "execution_count": 30,
   "metadata": {
    "colab": {
     "base_uri": "https://localhost:8080/",
     "height": 359
    },
    "colab_type": "code",
    "id": "1494gsxOg8_1",
    "outputId": "fc776e38-5fac-42bf-8bcb-47b1ea6c8c27"
   },
   "outputs": [
    {
     "data": {
      "text/html": [
       "<div>\n",
       "<style scoped>\n",
       "    .dataframe tbody tr th:only-of-type {\n",
       "        vertical-align: middle;\n",
       "    }\n",
       "\n",
       "    .dataframe tbody tr th {\n",
       "        vertical-align: top;\n",
       "    }\n",
       "\n",
       "    .dataframe thead th {\n",
       "        text-align: right;\n",
       "    }\n",
       "</style>\n",
       "<table border=\"1\" class=\"dataframe\">\n",
       "  <thead>\n",
       "    <tr style=\"text-align: right;\">\n",
       "      <th></th>\n",
       "      <th>VehicleNo</th>\n",
       "      <th>DateofRepair</th>\n",
       "      <th>TotalCost</th>\n",
       "      <th>Insurance</th>\n",
       "      <th>FinalPayment</th>\n",
       "      <th>Latitude of Location</th>\n",
       "      <th>Longitude of Location</th>\n",
       "      <th>LocationName</th>\n",
       "      <th>LastValue</th>\n",
       "      <th>AvgLat</th>\n",
       "      <th>AvgLon</th>\n",
       "      <th>VehicleType</th>\n",
       "      <th>WeightClass</th>\n",
       "      <th>CycleHour</th>\n",
       "    </tr>\n",
       "  </thead>\n",
       "  <tbody>\n",
       "    <tr>\n",
       "      <th>0</th>\n",
       "      <td>SerialNo1</td>\n",
       "      <td>12-31-2018</td>\n",
       "      <td>$560</td>\n",
       "      <td>$480</td>\n",
       "      <td>$80</td>\n",
       "      <td>43.419177</td>\n",
       "      <td>-79.716055</td>\n",
       "      <td>SE Auto Sales &amp; Service</td>\n",
       "      <td>3.21</td>\n",
       "      <td>43.419177</td>\n",
       "      <td>-79.716055</td>\n",
       "      <td>Truck</td>\n",
       "      <td>Class D (5001 - 6000 lbs)</td>\n",
       "      <td>2.50</td>\n",
       "    </tr>\n",
       "    <tr>\n",
       "      <th>1</th>\n",
       "      <td>SerialNo2</td>\n",
       "      <td>12-13-2018</td>\n",
       "      <td>$1,350</td>\n",
       "      <td>$250</td>\n",
       "      <td>$1,100</td>\n",
       "      <td>43.434135</td>\n",
       "      <td>-79.703653</td>\n",
       "      <td>New Millenium Tire &amp; Auto Centre, Oakville</td>\n",
       "      <td>2.45</td>\n",
       "      <td>43.434135</td>\n",
       "      <td>-79.703653</td>\n",
       "      <td>Truck</td>\n",
       "      <td>Class G (8001 - 9000 lbs)</td>\n",
       "      <td>3.50</td>\n",
       "    </tr>\n",
       "    <tr>\n",
       "      <th>2</th>\n",
       "      <td>SerialNo3</td>\n",
       "      <td>12-01-2018</td>\n",
       "      <td>$45</td>\n",
       "      <td>$45</td>\n",
       "      <td>$0</td>\n",
       "      <td>43.436562</td>\n",
       "      <td>-79.699516</td>\n",
       "      <td>Ontario Auto Salvage</td>\n",
       "      <td>17.30</td>\n",
       "      <td>43.436562</td>\n",
       "      <td>-79.699516</td>\n",
       "      <td>MPV</td>\n",
       "      <td>Class H (9001 - 10000 lbs)</td>\n",
       "      <td>0.75</td>\n",
       "    </tr>\n",
       "    <tr>\n",
       "      <th>3</th>\n",
       "      <td>SerialNo4</td>\n",
       "      <td>12-12-2018</td>\n",
       "      <td>$950</td>\n",
       "      <td>$950</td>\n",
       "      <td>$0</td>\n",
       "      <td>43.442824</td>\n",
       "      <td>-79.699035</td>\n",
       "      <td>JNB Auto Center</td>\n",
       "      <td>12.30</td>\n",
       "      <td>43.442824</td>\n",
       "      <td>-79.699035</td>\n",
       "      <td>MPV</td>\n",
       "      <td>Class H (9001 - 10000 lbs)</td>\n",
       "      <td>5.00</td>\n",
       "    </tr>\n",
       "    <tr>\n",
       "      <th>4</th>\n",
       "      <td>SerialNo5</td>\n",
       "      <td>12-16-2018</td>\n",
       "      <td>$2,550</td>\n",
       "      <td>$2,300</td>\n",
       "      <td>$250</td>\n",
       "      <td>43.448638</td>\n",
       "      <td>-79.699433</td>\n",
       "      <td>Oakville Auto Centre</td>\n",
       "      <td>9.70</td>\n",
       "      <td>43.448638</td>\n",
       "      <td>-79.699433</td>\n",
       "      <td>Truck</td>\n",
       "      <td>Class F (7001 - 8000 lbs)</td>\n",
       "      <td>12.00</td>\n",
       "    </tr>\n",
       "    <tr>\n",
       "      <th>5</th>\n",
       "      <td>SerialNo6</td>\n",
       "      <td>12-28-2018</td>\n",
       "      <td>$75</td>\n",
       "      <td>$50</td>\n",
       "      <td>$25</td>\n",
       "      <td>43.419177</td>\n",
       "      <td>-79.716055</td>\n",
       "      <td>SE Auto Sales &amp; Service</td>\n",
       "      <td>6.80</td>\n",
       "      <td>43.419177</td>\n",
       "      <td>-79.716055</td>\n",
       "      <td>Truck</td>\n",
       "      <td>Class 4 (14001 - 16000 lbs)</td>\n",
       "      <td>1.25</td>\n",
       "    </tr>\n",
       "    <tr>\n",
       "      <th>6</th>\n",
       "      <td>SerialNo7</td>\n",
       "      <td>12-05-2018</td>\n",
       "      <td>$35</td>\n",
       "      <td>$0</td>\n",
       "      <td>$0</td>\n",
       "      <td>43.434135</td>\n",
       "      <td>-79.703653</td>\n",
       "      <td>New Millenium Tire &amp; Auto Centre, Oakville</td>\n",
       "      <td>16.50</td>\n",
       "      <td>43.434135</td>\n",
       "      <td>-79.703653</td>\n",
       "      <td>Truck</td>\n",
       "      <td>Class 4 (14001 - 16000 lbs)</td>\n",
       "      <td>1.50</td>\n",
       "    </tr>\n",
       "    <tr>\n",
       "      <th>7</th>\n",
       "      <td>SerialNo7</td>\n",
       "      <td>12-30-2018</td>\n",
       "      <td>$2,000</td>\n",
       "      <td>$1,450</td>\n",
       "      <td>$550</td>\n",
       "      <td>43.436562</td>\n",
       "      <td>-79.699516</td>\n",
       "      <td>Ontario Auto Salvage</td>\n",
       "      <td>14.10</td>\n",
       "      <td>43.436562</td>\n",
       "      <td>-79.699516</td>\n",
       "      <td>Truck</td>\n",
       "      <td>Class 4 (14001 - 16000 lbs)</td>\n",
       "      <td>14.00</td>\n",
       "    </tr>\n",
       "    <tr>\n",
       "      <th>8</th>\n",
       "      <td>SerialNo7</td>\n",
       "      <td>12-31-2018</td>\n",
       "      <td>$0</td>\n",
       "      <td>$0</td>\n",
       "      <td>$0</td>\n",
       "      <td>43.436562</td>\n",
       "      <td>-79.699516</td>\n",
       "      <td>Ontario Auto Salvage</td>\n",
       "      <td>2.10</td>\n",
       "      <td>43.436562</td>\n",
       "      <td>-79.699516</td>\n",
       "      <td>Truck</td>\n",
       "      <td>Class 4 (14001 - 16000 lbs)</td>\n",
       "      <td>3.00</td>\n",
       "    </tr>\n",
       "    <tr>\n",
       "      <th>9</th>\n",
       "      <td>SerialNo8</td>\n",
       "      <td>12-02-2018</td>\n",
       "      <td>$45</td>\n",
       "      <td>$0</td>\n",
       "      <td>$0</td>\n",
       "      <td>43.434135</td>\n",
       "      <td>-79.703653</td>\n",
       "      <td>New Millenium Tire &amp; Auto Centre, Oakville</td>\n",
       "      <td>13.40</td>\n",
       "      <td>43.434135</td>\n",
       "      <td>-79.703653</td>\n",
       "      <td>Truck</td>\n",
       "      <td>Class F (7001 - 8000 lbs)</td>\n",
       "      <td>1.60</td>\n",
       "    </tr>\n",
       "  </tbody>\n",
       "</table>\n",
       "</div>"
      ],
      "text/plain": [
       "   VehicleNo DateofRepair TotalCost Insurance FinalPayment  \\\n",
       "0  SerialNo1   12-31-2018      $560      $480          $80   \n",
       "1  SerialNo2   12-13-2018    $1,350      $250       $1,100   \n",
       "2  SerialNo3   12-01-2018       $45       $45           $0   \n",
       "3  SerialNo4   12-12-2018      $950      $950           $0   \n",
       "4  SerialNo5   12-16-2018    $2,550    $2,300         $250   \n",
       "5  SerialNo6   12-28-2018       $75       $50          $25   \n",
       "6  SerialNo7   12-05-2018       $35        $0           $0   \n",
       "7  SerialNo7   12-30-2018    $2,000    $1,450         $550   \n",
       "8  SerialNo7   12-31-2018        $0        $0           $0   \n",
       "9  SerialNo8   12-02-2018       $45        $0           $0   \n",
       "\n",
       "   Latitude of Location  Longitude of Location  \\\n",
       "0             43.419177             -79.716055   \n",
       "1             43.434135             -79.703653   \n",
       "2             43.436562             -79.699516   \n",
       "3             43.442824             -79.699035   \n",
       "4             43.448638             -79.699433   \n",
       "5             43.419177             -79.716055   \n",
       "6             43.434135             -79.703653   \n",
       "7             43.436562             -79.699516   \n",
       "8             43.436562             -79.699516   \n",
       "9             43.434135             -79.703653   \n",
       "\n",
       "                                 LocationName  LastValue     AvgLat  \\\n",
       "0                     SE Auto Sales & Service       3.21  43.419177   \n",
       "1  New Millenium Tire & Auto Centre, Oakville       2.45  43.434135   \n",
       "2                        Ontario Auto Salvage      17.30  43.436562   \n",
       "3                             JNB Auto Center      12.30  43.442824   \n",
       "4                        Oakville Auto Centre       9.70  43.448638   \n",
       "5                     SE Auto Sales & Service       6.80  43.419177   \n",
       "6  New Millenium Tire & Auto Centre, Oakville      16.50  43.434135   \n",
       "7                        Ontario Auto Salvage      14.10  43.436562   \n",
       "8                        Ontario Auto Salvage       2.10  43.436562   \n",
       "9  New Millenium Tire & Auto Centre, Oakville      13.40  43.434135   \n",
       "\n",
       "      AvgLon VehicleType                  WeightClass  CycleHour  \n",
       "0 -79.716055       Truck    Class D (5001 - 6000 lbs)       2.50  \n",
       "1 -79.703653       Truck    Class G (8001 - 9000 lbs)       3.50  \n",
       "2 -79.699516         MPV   Class H (9001 - 10000 lbs)       0.75  \n",
       "3 -79.699035         MPV   Class H (9001 - 10000 lbs)       5.00  \n",
       "4 -79.699433       Truck    Class F (7001 - 8000 lbs)      12.00  \n",
       "5 -79.716055       Truck  Class 4 (14001 - 16000 lbs)       1.25  \n",
       "6 -79.703653       Truck  Class 4 (14001 - 16000 lbs)       1.50  \n",
       "7 -79.699516       Truck  Class 4 (14001 - 16000 lbs)      14.00  \n",
       "8 -79.699516       Truck  Class 4 (14001 - 16000 lbs)       3.00  \n",
       "9 -79.703653       Truck    Class F (7001 - 8000 lbs)       1.60  "
      ]
     },
     "execution_count": 30,
     "metadata": {
      "tags": []
     },
     "output_type": "execute_result"
    }
   ],
   "source": [
    "df_c"
   ]
  },
  {
   "cell_type": "markdown",
   "metadata": {
    "colab_type": "text",
    "deletable": true,
    "editable": true,
    "id": "7ZJYKucWYdTN"
   },
   "source": [
    "This information will give you where the vehicle was serviced (if that information is not available), the date and time of the visit. The time taken for any repairs, as well as the engine oil life remaining at the time of the repair can complement more detailed repair records. We can use this information to find how many hours vehicles have spent at each service station."
   ]
  },
  {
   "cell_type": "code",
   "execution_count": 31,
   "metadata": {
    "colab": {
     "base_uri": "https://localhost:8080/",
     "height": 506
    },
    "colab_type": "code",
    "deletable": true,
    "editable": true,
    "id": "RX5eItaxYdTN",
    "outputId": "e3beea8e-419d-4a84-9512-1b92145d21cb"
   },
   "outputs": [
    {
     "data": {
      "text/plain": [
       "<matplotlib.axes._subplots.AxesSubplot at 0x7f02c6130390>"
      ]
     },
     "execution_count": 31,
     "metadata": {
      "tags": []
     },
     "output_type": "execute_result"
    },
    {
     "data": {
      "image/png": "[encoded data removed]",
      "text/plain": [
       "<Figure size 432x288 with 1 Axes>"
      ]
     },
     "metadata": {
      "tags": []
     },
     "output_type": "display_data"
    }
   ],
   "source": [
    "df_c.groupby('LocationName')['CycleHour'].sum().plot.bar(x='VehicleNo', y='FinalPayment')"
   ]
  }
 ],
 "metadata": {
  "colab": {
   "name": "Service_Centre.ipynb",
   "provenance": [],
   "version": "0.3.2"
  },
  "kernelspec": {
   "display_name": "Python 2",
   "language": "python",
   "name": "python2"
  },
  "language_info": {
   "codemirror_mode": {
    "name": "ipython",
    "version": 2
   },
   "file_extension": ".py",
   "mimetype": "text/x-python",
   "name": "python",
   "nbconvert_exporter": "python",
   "pygments_lexer": "ipython2",
   "version": "2.7.15"
  }
 },
 "nbformat": 4,
 "nbformat_minor": 0
}
