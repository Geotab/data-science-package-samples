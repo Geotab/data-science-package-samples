{
 "cells": [
  {
   "cell_type": "markdown",
   "metadata": {
    "colab_type": "text",
    "deletable": true,
    "editable": true,
    "id": "qJKImQV6tEjl"
   },
   "source": [
    "# Summarizing Fault Codes with The Data Science Package"
   ]
  },
  {
   "cell_type": "markdown",
   "metadata": {
    "colab_type": "text",
    "deletable": true,
    "editable": true,
    "id": "Xm3O5Lb1tEjq"
   },
   "source": [
    "At the end of the week, month, or quarter, you can easily integrate information about the trips that were taken during that time period. "
   ]
  },
  {
   "cell_type": "code",
   "execution_count": 0,
   "metadata": {
    "colab": {},
    "colab_type": "code",
    "deletable": true,
    "editable": true,
    "id": "-Dnf1FvktEjv"
   },
   "outputs": [],
   "source": [
    "import pandas as pd"
   ]
  },
  {
   "cell_type": "code",
   "execution_count": 0,
   "metadata": {
    "colab": {
     "base_uri": "https://localhost:8080/",
     "height": 34
    },
    "colab_type": "code",
    "id": "ThCe5FSriM0g",
    "outputId": "139026f1-09ce-49c4-fb46-ebb071d91773"
   },
   "outputs": [
    {
     "name": "stdout",
     "output_type": "stream",
     "text": [
      "Authenticated\n"
     ]
    }
   ],
   "source": [
    "from google.colab import auth\n",
    "auth.authenticate_user()\n",
    "print('Authenticated')"
   ]
  },
  {
   "cell_type": "markdown",
   "metadata": {
    "colab_type": "text",
    "deletable": true,
    "editable": true,
    "id": "-sfRv5twtEkA"
   },
   "source": [
    "We can get information about the fault codes that occured during trips within a monthly period. For instance, we may want to keep track of the fault codes that appear during trips, which vehicles have the most fault codes, and when warning lights appear. "
   ]
  },
  {
   "cell_type": "markdown",
   "metadata": {
    "colab_type": "text",
    "deletable": true,
    "editable": true,
    "id": "1JtWiQmDtEkD"
   },
   "source": [
    "Firstly, we can get all of the trips and join them with the fault codes table, to place all fault codes with the trips where they occured. "
   ]
  },
  {
   "cell_type": "code",
   "execution_count": 0,
   "metadata": {
    "colab": {},
    "colab_type": "code",
    "deletable": true,
    "editable": true,
    "id": "W3OENWlmtEkH"
   },
   "outputs": [],
   "source": [
    "projectname='PUT YOUR PROJECT NAME HERE'"
   ]
  },
  {
   "cell_type": "code",
   "execution_count": 0,
   "metadata": {
    "colab": {},
    "colab_type": "code",
    "deletable": true,
    "editable": true,
    "id": "muIMXBDutEkO"
   },
   "outputs": [],
   "source": [
    "TripsandFCs= \"\"\"\n",
    "Select T.*, Fault_Time, Code, ActiveFlag, F_Speed \n",
    "  From \n",
    "    (Select TripId, SerialNo, StartTime, StopTime, DrivingDuration, StopDuration, Distance, IdlingDuration \n",
    "       From `geotab-dsp-$name.Interpolated.Trips` \n",
    "      Where _PartitionTime between Timestamp(Date_Trunc(Date_Sub(Current_Date(), Interval 1 Month), Month))\n",
    "        and Timestamp(Date_Sub(Date_Trunc(Current_DAte(), Month), Interval 1 Day))\n",
    "    )T \n",
    "Left Join\n",
    "    (Select SerialNo, DateTime AS Fault_Time, Code, ActiveFlag, Speed AS F_Speed \n",
    "      From `geotab-dsp-$name.Interpolated.Fault` \n",
    "     Where _PartitionTime between Timestamp(Date_Trunc(Date_Sub(Current_Date(), Interval 1 Month), Month))\n",
    "        and Timestamp(Date_Sub(Date_Trunc(Current_DAte(), Month), Interval 1 Day))\n",
    "  )F \n",
    "    On T.SerialNo=F.SerialNo and Fault_Time between StartTime and StopTime\n",
    "\"\"\"\n"
   ]
  },
  {
   "cell_type": "code",
   "execution_count": 0,
   "metadata": {
    "colab": {},
    "colab_type": "code",
    "deletable": true,
    "editable": true,
    "id": "bTtXFyRftEkU"
   },
   "outputs": [],
   "source": [
    "df_TaFC=pd.io.gbq.read_gbq(TripsandFCs.replace('$name', projectname), project_id='geotab-dsp-'+projectname ,dialect='standard')"
   ]
  },
  {
   "cell_type": "markdown",
   "metadata": {
    "colab_type": "text",
    "deletable": true,
    "editable": true,
    "id": "2dY1FIbCtEka"
   },
   "source": [
    "In order to find out how many trips in the past week had faults, we can write a separate query that shows you how many trips had at least one fault code register during the trip"
   ]
  },
  {
   "cell_type": "code",
   "execution_count": 0,
   "metadata": {
    "colab": {},
    "colab_type": "code",
    "deletable": true,
    "editable": true,
    "id": "yW6rx2kHtEkc"
   },
   "outputs": [],
   "source": [
    "TripswFCs= \"\"\"\n",
    "With Trips As \n",
    "  (Select T.*, Fault_Time, Code, ActiveFlag, F_Speed \n",
    "    From \n",
    "    (\n",
    "    Select TripId, SerialNo, StartTime, StopTime, DrivingDuration, StopDuration, Distance, IdlingDuration \n",
    "       From `geotab-dsp-$name.Interpolated.Trips` \n",
    "      Where _PartitionTime between Timestamp(Date_Trunc(Date_Sub(Current_Date(), Interval 1 Month), Month))\n",
    "        and Timestamp(Date_Sub(Date_Trunc(Current_DAte(), Month), Interval 1 Day))\n",
    "    )T \n",
    "    Left Join \n",
    "    (\n",
    "    Select SerialNo, DateTime AS Fault_Time, Code, ActiveFlag, Speed AS F_Speed \n",
    "      From `geotab-dsp-$name.Interpolated.Fault` \n",
    "     Where _PartitionTime between Timestamp(Date_Trunc(Date_Sub(Current_Date(), Interval 1 Month), Month))\n",
    "        and Timestamp(Date_Sub(Date_Trunc(Current_DAte(), Month), Interval 1 Day))\n",
    "    ) F \n",
    "    On T.SerialNo=F.SerialNo and Fault_Time between StartTime and StopTime)\n",
    "\n",
    "\n",
    "  Select No_Faults, Count(TripId) No_Trips \n",
    "    From\n",
    "      (\n",
    "      Select TripId, Count(Fault_Time) as No_Faults\n",
    "        From Trips\n",
    "    Group by TripId\n",
    "      )\n",
    "   Where No_Faults>0\n",
    "Group by No_Faults\n",
    "Order by No_Faults\n",
    "\"\"\""
   ]
  },
  {
   "cell_type": "code",
   "execution_count": 0,
   "metadata": {
    "colab": {},
    "colab_type": "code",
    "deletable": true,
    "editable": true,
    "id": "CpyyFYbjtEkh"
   },
   "outputs": [],
   "source": [
    "df_TwFC=pd.io.gbq.read_gbq(TripswFCs.replace('$name', projectname),project_id='geotab-dsp-'+projectname, dialect='standard')"
   ]
  },
  {
   "cell_type": "markdown",
   "metadata": {
    "colab_type": "text",
    "deletable": true,
    "editable": true,
    "id": "8UImGdiztEkn"
   },
   "source": [
    "We may want to look at Vehicles and Trips that had multiple fault codes, and understand what is happening there a little bit more. We can visualize a few summary charts based on a query that takes fault codes and places them within the trip they occured. We can also take the last timestamp of the trip to find out when the most recent fault code occured. "
   ]
  },
  {
   "cell_type": "code",
   "execution_count": 0,
   "metadata": {
    "colab": {},
    "colab_type": "code",
    "deletable": true,
    "editable": true,
    "id": "NbFDMB-9tEkp"
   },
   "outputs": [],
   "source": [
    "TripswMFC= \"\"\"\n",
    "With Trips As (\n",
    "  Select T.*, Fault_Time, Code AS FaultCode, ActiveFlag, F_Speed \n",
    "    From \n",
    "    (\n",
    "    Select TripId, SerialNo, StartTime, StopTime, DrivingDuration, StopDuration, Distance, IdlingDuration \n",
    "      From `geotab-dsp-$name.Interpolated.Trips` \n",
    "      Where _PartitionTime between Timestamp(Date_Trunc(Date_Sub(Current_Date(), Interval 1 Month), Month))\n",
    "        and Timestamp(Date_Sub(Date_Trunc(Current_DAte(), Month), Interval 1 Day))\n",
    "    ) T \n",
    "  Left Join \n",
    "  (\n",
    "    Select SerialNo, DateTime AS Fault_Time, Code, ActiveFlag, Speed AS F_Speed \n",
    "      From `geotab-dsp-$name.Interpolated.Fault` \n",
    "      Where _PartitionTime between Timestamp(Date_Trunc(Date_Sub(Current_Date(), Interval 1 Month), Month))\n",
    "        and Timestamp(Date_Sub(Date_Trunc(Current_DAte(), Month), Interval 1 Day))\n",
    "  ) F \n",
    "  On T.SerialNo=F.SerialNo and Fault_Time between StartTime and StopTime)\n",
    "\n",
    ",ManyFaults As \n",
    "(\n",
    "  Select * \n",
    "  From\n",
    "  (\n",
    "    Select TripId, Count(Fault_Time) as No_Faults \n",
    "      From Trips\n",
    "      Group by TripId)\n",
    "  Where No_Faults>9)\n",
    "\n",
    "Select Distinct SerialNo, TripId, FaultCode, MostRecent,  No_Records, Description \n",
    "  From \n",
    "  (\n",
    "  Select Distinct TripId, SerialNo, FaultCode, Max(Fault_Time) as MostRecent, Count(*) No_Records \n",
    "    From Trips \n",
    "    Where Tripid In (Select Tripid From ManyFaults)\n",
    "    Group by SerialNo, FaultCode, TripId\n",
    "  ) A \n",
    "  Inner Join ( \n",
    "  Select Code, Description \n",
    "    From `geotab-dsp-$name.Interpolated.FaultCodeLookup` \n",
    "    Where _PARTITIONTIME between Timestamp(Date '2018-01-01') and Timestamp(Date '2018-12-31')\n",
    "  ) B \n",
    "  On FaultCode=Code\n",
    "\"\"\""
   ]
  },
  {
   "cell_type": "code",
   "execution_count": 0,
   "metadata": {
    "colab": {},
    "colab_type": "code",
    "deletable": true,
    "editable": true,
    "id": "LFiD5JF4tEku"
   },
   "outputs": [],
   "source": [
    "df_TwMFC=pd.io.gbq.read_gbq(TripswMFC.replace('$name', projectname), project_id='geotab-dsp-'+projectname, dialect='standard')"
   ]
  },
  {
   "cell_type": "markdown",
   "metadata": {
    "colab_type": "text",
    "deletable": true,
    "editable": true,
    "id": "94mKGbHltEk0"
   },
   "source": [
    " The above query provides you with a summary of all of the trips with multiple fault codes. You can visualize all of these findings in a datastudio dashboard: \n",
    " https://datastudio.google.com/u/0/reporting/1KEbkhyuUlmDl4RkW2j9uhq-nb--aeWbH/page/vMad"
   ]
  }
 ],
 "metadata": {
  "colab": {
   "collapsed_sections": [],
   "name": "MonthlyStats_Faults_FC.ipynb",
   "provenance": [],
   "version": "0.3.2"
  },
  "kernelspec": {
   "display_name": "Python 2",
   "language": "python",
   "name": "python2"
  }
 },
 "nbformat": 4,
 "nbformat_minor": 0
}
